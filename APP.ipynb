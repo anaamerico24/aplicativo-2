{
 "cells": [
  {
   "cell_type": "code",
   "execution_count": null,
   "metadata": {},
   "outputs": [],
   "source": [
    "import React, { useState} from 'React';\n",
    "import { View, TextInput, Button, Text, StyleSheet} from \"react-native\";\n",
    "\n",
    "export default function LogginScreen ( { navaigation}) {\n",
    "const [username, setUsername] = useState('');\n",
    "const [password, setpassword] = useState('');\n",
    "\n",
    "const handlelogin = () => {\n",
    "    if (username && password) {\n",
    "        navaigation.navigate('Main');\n",
    "} else {\n",
    "    alert(\"Por favor, insira um usuário e senha válidos\")\n",
    "}\n",
    "};\n",
    "\n",
    "return (\n",
    "    <View style={style.container}>\n",
    "        <Text style={styles.title}>Login</Text>\n",
    "        <TextInput\n",
    "            style={styles.input}\n",
    "            placeholder=\"Usuário\"\n",
    "            onChangeText={setUsername}\n",
    "            />\n",
    "    </View>\n",
    ")\n",
    "}\n",
    "\n",
    "const styles = StyleSheet.create({\n",
    "    container: { flex: 1, justifyContent: 'center', padding: 20 },\n",
    "    title: { fontSize: 24, textAlign: 'center', marginBottom: 12, padding: 8},\n",
    "})"
   ]
  },
  {
   "cell_type": "code",
   "execution_count": null,
   "metadata": {},
   "outputs": [],
   "source": [
    "import React from 'react';\n",
    "import { View, Button, StyleSheet} from 'react-native';\n",
    "export default function MainScreen ({ navigation }) {\n",
    "    return (\n",
    "        <View style={StyleSheet.container}>\n",
    "            <Button title=\"Controle de Estoque\" onPress={() => navigation.navigate('StockControl')}/>\n",
    "            <Button title=\"Relatórios de Obra\" onPress={() => navigation.navigate('WorkReports')} />\n",
    "            <Button title=\"Atualizações de Status\" onPress={() => navigation.navigate('StatusUpdates')} />           \n",
    "        </View>\n",
    "    );\n",
    "}\n",
    "\n",
    "const styles = StyleSheet.create({\n",
    "    container: {flex: 1 , justifyContent: 'center', padding: 20},\n",
    "});"
   ]
  },
  {
   "cell_type": "code",
   "execution_count": null,
   "metadata": {},
   "outputs": [],
   "source": [
    "import SQLite from 'react-native-sqlite-storage';\n",
    "\n",
    "const db = SQLite.openDatabase({ name: 'constructionApp.db', location: 'default'});\n",
    "\n",
    "db.transaction((tx) => {\n",
    "    tx.executeSql(\n",
    "        'CREATE TABLE IF NOT EXISTS stock(id INTEGER PRIMARY KEY AUTOINCREMENT,item_name TEXT,quantity INTEGER)';\n",
    "    );\n",
    "});\n"
   ]
  },
  {
   "cell_type": "code",
   "execution_count": null,
   "metadata": {},
   "outputs": [],
   "source": [
    "export const addItenToStock = (itemName, quantity) => {\n",
    "    db.transaction((tx) => {\n",
    "        tx.executeSql(\n",
    "            'SELECT * FROM stock',\n",
    "            [],\n",
    "            (tx, results) => {\n",
    "                const rows = results.rows;\n",
    "                let items = [];\n",
    "                for (let i = 0; i< rows.length; i++) {\n",
    "                    items.push(rows.item(i));\n",
    "                }\n",
    "                cancelIdleCallback(items);\n",
    "            },\n",
    "            (error) => console.log('Erro ao obter itens de estoque', error)\n",
    "        );\n",
    "    });\n",
    "};"
   ]
  },
  {
   "cell_type": "code",
   "execution_count": null,
   "metadata": {},
   "outputs": [],
   "source": [
    "import AsyncStorage from '@react-native-async-storage/async-storage';\n",
    "\n",
    "export const storeSessionData = async (key, value) => {\n",
    "    try {\n",
    "        await AsyncStorage.setItem(key, value);\n",
    "    }   catch (e) {\n",
    "        console.log('Erro ao obter dados de sessão', e);\n",
    "    }\n",
    "};\n",
    "\n",
    "export const getSessionData = async (key) => {\n",
    "    try{\n",
    "        return await AsyncStorage.getItem(key);\n",
    "    }   catch (e) {\n",
    "        console.log('Erro ao obter dados de sessão', e);\n",
    "    }\n",
    "};\n"
   ]
  },
  {
   "cell_type": "code",
   "execution_count": null,
   "metadata": {},
   "outputs": [],
   "source": [
    "import axios from 'axios';\n",
    "\n",
    "const API_URL ='https://api.example.com';\n",
    "\n",
    "export const fetchWorkReports = async () => {\n",
    "    try {\n",
    "        const response = await axios.get('${API_URL}/work-reports');\n",
    "        return response.data;\n",
    "    }   catch (error) {\n",
    "        console.log('Erro ao obter relatórios de obra:', error);\n",
    "        return null;\n",
    "    }\n",
    "};"
   ]
  },
  {
   "cell_type": "code",
   "execution_count": null,
   "metadata": {},
   "outputs": [],
   "source": [
    "export const updateWorkStatus = async (reportId, status) => {\n",
    "    try {\n",
    "        const response = await axios.post('${API_URL}/update-status', {\n",
    "            reportId,\n",
    "            status,\n",
    "        });\n",
    "        return response.data;\n",
    "    }   catch (error) {\n",
    "        console.log('Erro ao atualizar status da obra:', error);\n",
    "        return  null;\n",
    "    }\n",
    "};"
   ]
  }
 ],
 "metadata": {
  "language_info": {
   "name": "python"
  }
 },
 "nbformat": 4,
 "nbformat_minor": 2
}
